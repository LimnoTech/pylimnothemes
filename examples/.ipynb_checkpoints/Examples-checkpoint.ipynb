{
 "cells": [
  {
   "cell_type": "markdown",
   "id": "39062211-b5ee-4b2c-a08a-08ff8a6794ad",
   "metadata": {},
   "source": [
    "# pylimnothemes usage guide \n",
    "\n",
    "This notebook demonstrates how to use the pylimnothemes library. Please see the readme for details on installing the library."
   ]
  },
  {
   "cell_type": "markdown",
   "id": "6832e559-1418-4d1b-9e4d-dd12d565f93e",
   "metadata": {},
   "source": [
    "# Install Packages"
   ]
  },
  {
   "cell_type": "code",
   "execution_count": 5,
   "id": "41d562f1-2727-4d3a-9c45-874b1d694635",
   "metadata": {},
   "outputs": [],
   "source": [
    "import pylimnothemes \n",
    "import matplotlib.pyplot as plt\n",
    "import numpy as np"
   ]
  },
  {
   "cell_type": "markdown",
   "id": "14ac3ce3-8650-423f-83df-dde3a4b5e72b",
   "metadata": {},
   "source": [
    "# Create A Simple Figure\n",
    "\n",
    "## Matplotlib Defaults"
   ]
  },
  {
   "cell_type": "code",
   "execution_count": 2,
   "id": "1bd2a4b7-cbec-4bf9-bdba-617201670038",
   "metadata": {},
   "outputs": [
    {
     "data": {
      "image/png": "[encoded data removed]",
      "text/plain": [
       "<Figure size 432x288 with 1 Axes>"
      ]
     },
     "metadata": {
      "needs_background": "light"
     },
     "output_type": "display_data"
    }
   ],
   "source": [
    "# evenly sampled x values\n",
    "t = np.arange(0., 5., 0.2)\n",
    "\n",
    "# red dashes, blue squares and green triangles\n",
    "plt.plot(t, t, label='linear')\n",
    "plt.plot(t, t**2, label = 'quadratic')\n",
    "plt.plot(t, t**3, label = 'cubic')\n",
    "plt.ylabel(\"Values\")\n",
    "plt.xlabel(\"Time\")\n",
    "plt.title(\"Values over Time\")\n",
    "plt.legend()\n",
    "plt.show()"
   ]
  },
  {
   "cell_type": "markdown",
   "id": "e20064a2-bdea-4358-98de-1746e266bcdd",
   "metadata": {},
   "source": [
    "## Pylimnotheme: main\n",
    "\n",
    "Call theme_limno. The main color palette is the default, so no input arguments are required. "
   ]
  },
  {
   "cell_type": "code",
   "execution_count": 6,
   "id": "873d22fd-c4f5-414c-941b-9a2a21101615",
   "metadata": {},
   "outputs": [
    {
     "ename": "TypeError",
     "evalue": "'module' object is not callable",
     "output_type": "error",
     "traceback": [
      "\u001b[1;31m---------------------------------------------------------------------------\u001b[0m",
      "\u001b[1;31mTypeError\u001b[0m                                 Traceback (most recent call last)",
      "\u001b[1;32m~\\AppData\\Local\\Temp/ipykernel_3672/1272307667.py\u001b[0m in \u001b[0;36m<module>\u001b[1;34m\u001b[0m\n\u001b[1;32m----> 1\u001b[1;33m \u001b[0mtheme_limno\u001b[0m\u001b[1;33m(\u001b[0m\u001b[1;33m)\u001b[0m\u001b[1;33m\u001b[0m\u001b[1;33m\u001b[0m\u001b[0m\n\u001b[0m",
      "\u001b[1;32m~\\Anaconda3\\envs\\pylimnothemes\\lib\\site-packages\\pylimnothemes\\utilities.py\u001b[0m in \u001b[0;36mtheme_limno\u001b[1;34m(palette)\u001b[0m\n\u001b[0;32m    114\u001b[0m \u001b[1;32mdef\u001b[0m \u001b[0mtheme_limno\u001b[0m\u001b[1;33m(\u001b[0m\u001b[0mpalette\u001b[0m\u001b[1;33m=\u001b[0m\u001b[1;34m'main'\u001b[0m\u001b[1;33m)\u001b[0m\u001b[1;33m:\u001b[0m\u001b[1;33m\u001b[0m\u001b[1;33m\u001b[0m\u001b[0m\n\u001b[0;32m    115\u001b[0m         \u001b[1;31m# color palette\u001b[0m\u001b[1;33m\u001b[0m\u001b[1;33m\u001b[0m\u001b[0m\n\u001b[1;32m--> 116\u001b[1;33m         \u001b[0mmpl\u001b[0m\u001b[1;33m.\u001b[0m\u001b[0mrcParams\u001b[0m\u001b[1;33m[\u001b[0m\u001b[1;34m'axes.prop_cycle'\u001b[0m\u001b[1;33m]\u001b[0m \u001b[1;33m=\u001b[0m \u001b[0mcycler\u001b[0m\u001b[1;33m(\u001b[0m\u001b[0mcolor\u001b[0m\u001b[1;33m=\u001b[0m\u001b[0mlimno_pal\u001b[0m\u001b[1;33m(\u001b[0m\u001b[0mpalette\u001b[0m\u001b[1;33m)\u001b[0m\u001b[1;33m)\u001b[0m\u001b[1;33m\u001b[0m\u001b[1;33m\u001b[0m\u001b[0m\n\u001b[0m\u001b[0;32m    117\u001b[0m \u001b[1;33m\u001b[0m\u001b[0m\n\u001b[0;32m    118\u001b[0m         \u001b[1;31m# font\u001b[0m\u001b[1;33m\u001b[0m\u001b[1;33m\u001b[0m\u001b[0m\n",
      "\u001b[1;31mTypeError\u001b[0m: 'module' object is not callable"
     ]
    }
   ],
   "source": [
    "theme_limno()"
   ]
  },
  {
   "cell_type": "code",
   "execution_count": 7,
   "id": "1bbba6a0-016a-4e88-8382-34b1e225d53c",
   "metadata": {},
   "outputs": [
    {
     "data": {
      "text/plain": [
       "\u001b[1;31mType:\u001b[0m        module\n",
       "\u001b[1;31mString form:\u001b[0m <module 'pylimnothemes' from 'C:\\\\Users\\\\sjordan\\\\Anaconda3\\\\envs\\\\pylimnothemes\\\\lib\\\\site-packages\\\\pylimnothemes\\\\__init__.py'>\n",
       "\u001b[1;31mFile:\u001b[0m        c:\\users\\sjordan\\anaconda3\\envs\\pylimnothemes\\lib\\site-packages\\pylimnothemes\\__init__.py\n",
       "\u001b[1;31mDocstring:\u001b[0m   <no docstring>\n"
      ]
     },
     "metadata": {},
     "output_type": "display_data"
    }
   ],
   "source": [
    "?pylimnothemes"
   ]
  },
  {
   "cell_type": "code",
   "execution_count": null,
   "id": "4b324b72-d1ec-4682-bc7c-477e895a5c97",
   "metadata": {},
   "outputs": [],
   "source": []
  }
 ],
 "metadata": {
  "kernelspec": {
   "display_name": "Python 3 (ipykernel)",
   "language": "python",
   "name": "python3"
  },
  "language_info": {
   "codemirror_mode": {
    "name": "ipython",
    "version": 3
   },
   "file_extension": ".py",
   "mimetype": "text/x-python",
   "name": "python",
   "nbconvert_exporter": "python",
   "pygments_lexer": "ipython3",
   "version": "3.9.7"
  },
  "toc-autonumbering": true
 },
 "nbformat": 4,
 "nbformat_minor": 5
}
